{
  "cells": [
    {
      "cell_type": "markdown",
      "metadata": {
        "id": "h33zWXYF658F"
      },
      "source": [
        "# Biblioteki Python: numpy, matplotlib, ...\n",
        "\n",
        "* moduły, import bibliotek\n",
        "* numpy - operacje macierzowe (_a la_ Matlab)\n",
        "* matplotlib - wykresy (_a la_ Matlab)\n"
      ]
    },
    {
      "cell_type": "markdown",
      "metadata": {
        "id": "SCCK5EBm658J"
      },
      "source": [
        "## Moduły i pakiety\n",
        "\n",
        "Lista wbudowanych funkcji: https://docs.python.org/3/library/functions.html  \n",
        "\n",
        "Lista wbudowanych pakietów: https://docs.python.org/3/library/index.html\n",
        "\n",
        "Przykład:\n",
        "* **math** https://docs.python.org/3/library/math.html\n",
        "* **random** https://docs.python.org/3/library/random.html\n",
        "* **time** https://docs.python.org/3/library/time.html"
      ]
    },
    {
      "cell_type": "markdown",
      "metadata": {
        "id": "C-dh0hCm658K"
      },
      "source": [
        "## Importowanie modułów\n"
      ]
    },
    {
      "cell_type": "code",
      "execution_count": null,
      "metadata": {
        "id": "7tLQ8F9-658L"
      },
      "outputs": [],
      "source": [
        "import math\n",
        "\n",
        "x = math.sqrt(2)\n",
        "print(x)"
      ]
    },
    {
      "cell_type": "markdown",
      "metadata": {
        "id": "px8QkDlK658M"
      },
      "source": [
        "Importowanie z nadaniem aliasu (własnej nazwy)"
      ]
    },
    {
      "cell_type": "code",
      "execution_count": null,
      "metadata": {
        "id": "Gvw82yWV658M"
      },
      "outputs": [],
      "source": [
        "import random as r\n",
        "\n",
        "for i in range(10):\n",
        "    print(r.random())"
      ]
    },
    {
      "cell_type": "markdown",
      "metadata": {
        "id": "Nry9vv0Z658N"
      },
      "source": [
        "Importowanie pojedynczej funkcji z pakietu"
      ]
    },
    {
      "cell_type": "code",
      "execution_count": null,
      "metadata": {
        "id": "qyIKTXXN658N"
      },
      "outputs": [],
      "source": [
        "from time import sleep\n",
        "\n",
        "for i in range(10, 1, -1):\n",
        "    print(i)\n",
        "    sleep(1)\n",
        "\n",
        "print('Start!')"
      ]
    },
    {
      "cell_type": "markdown",
      "metadata": {
        "id": "BxMjgBLq658O"
      },
      "source": [
        "## NumPy - bibloteka do obliczeń numerycznych\n",
        "\n",
        "NumPy tutorial: <https://numpy.org/devdocs/user/quickstart.html>"
      ]
    },
    {
      "cell_type": "code",
      "execution_count": null,
      "metadata": {
        "id": "65tk-ofZ658O"
      },
      "outputs": [],
      "source": [
        "import numpy as np"
      ]
    },
    {
      "cell_type": "code",
      "execution_count": null,
      "metadata": {
        "id": "Rfmhs2rC658O"
      },
      "outputs": [],
      "source": [
        "a = np.array([1, 2, 3])     # tablica numpy (ndarray), 1-wymiarowa (wektor)\n",
        "print(a)\n",
        "print(type(a))"
      ]
    },
    {
      "cell_type": "markdown",
      "metadata": {
        "id": "qhYOCsHQ658O"
      },
      "source": [
        "### Obiekt array\n",
        "\n",
        "![image-2.png](attachment:image-2.png)"
      ]
    },
    {
      "cell_type": "code",
      "execution_count": null,
      "metadata": {
        "id": "T0pwXkqx658P"
      },
      "outputs": [],
      "source": [
        "print(a)\n",
        "print(a.ndim)       # liczba wymiarów\n",
        "print(a.shape)      # wymiary (kształt) macierzy\n",
        "print(a.dtype)      # typ danych\n",
        "print(a.size)       # liczba elementów"
      ]
    },
    {
      "cell_type": "markdown",
      "metadata": {
        "id": "g4UcOt1K658P"
      },
      "source": [
        "### Macierz  2D\n",
        "\n",
        "![image.png](attachment:image.png)"
      ]
    },
    {
      "cell_type": "code",
      "execution_count": null,
      "metadata": {
        "id": "0pm6-I_5658P"
      },
      "outputs": [],
      "source": [
        "b = np.array([[1, 2, 3], [3, 5, 6]])   # tablica 2-wymiarowa\n",
        "print(b)"
      ]
    },
    {
      "cell_type": "code",
      "execution_count": null,
      "metadata": {
        "id": "A8TVX0lV658P"
      },
      "outputs": [],
      "source": [
        "print(b.ndim)       # liczba wymiarów\n",
        "print(b.shape)      # wymiary (kształt) macierzy\n",
        "print(b.dtype)      # typ danych\n",
        "print(b.size)       # liczba elementów"
      ]
    },
    {
      "cell_type": "markdown",
      "metadata": {
        "id": "fE4DUe2D658Q"
      },
      "source": [
        "### Funkcje do generowania tablic"
      ]
    },
    {
      "cell_type": "code",
      "execution_count": null,
      "metadata": {
        "id": "0x53097y658Q"
      },
      "outputs": [],
      "source": [
        "np.random.rand(4)           # liczby losowe z rozkładu jednostajnego [0,1]"
      ]
    },
    {
      "cell_type": "code",
      "execution_count": null,
      "metadata": {
        "id": "zZIgSUoD658Q"
      },
      "outputs": [],
      "source": [
        "np.random.randn(5)          # rozkład normalny"
      ]
    },
    {
      "cell_type": "code",
      "execution_count": null,
      "metadata": {
        "id": "IMrX89PP658Q"
      },
      "outputs": [],
      "source": [
        "np.arange(-10, 10, 2)         # wartości od -10 do 10 z krokiem 2"
      ]
    },
    {
      "cell_type": "code",
      "execution_count": null,
      "metadata": {
        "id": "nGCrOLyl658Q"
      },
      "outputs": [],
      "source": [
        "np.arange(12).reshape(3, 4)  # reshape to a matrix"
      ]
    },
    {
      "cell_type": "code",
      "execution_count": null,
      "metadata": {
        "id": "pJN3tK1a658R"
      },
      "outputs": [],
      "source": [
        "np.linspace(0, 1, 10)         # 10 kolejnych wartości z odcinka [0,1]"
      ]
    },
    {
      "cell_type": "code",
      "execution_count": null,
      "metadata": {
        "id": "2pnu-3_V658R"
      },
      "outputs": [],
      "source": [
        "np.zeros((3, 5))             # macierz zerowa"
      ]
    },
    {
      "cell_type": "code",
      "execution_count": null,
      "metadata": {
        "id": "gGnjCv5m658R"
      },
      "outputs": [],
      "source": [
        "np.eye(5)                   # macierz jednostkowa (diagonalna)"
      ]
    },
    {
      "cell_type": "code",
      "execution_count": null,
      "metadata": {
        "id": "60Dwq-Fn658R"
      },
      "outputs": [],
      "source": [
        "np.ones((5,1))              # macierz jedynek"
      ]
    },
    {
      "cell_type": "markdown",
      "metadata": {
        "id": "OoW_5G4h658R"
      },
      "source": [
        "### Zmiana kształtu mcierzy"
      ]
    },
    {
      "cell_type": "code",
      "execution_count": null,
      "metadata": {
        "id": "nR4UAhqJ658R"
      },
      "outputs": [],
      "source": [
        "x = np.arange(12)\n",
        "print(x.shape)\n",
        "print(x)"
      ]
    },
    {
      "cell_type": "code",
      "execution_count": null,
      "metadata": {
        "id": "pS355nua658S"
      },
      "outputs": [],
      "source": [
        "y = x.reshape([3,4])\n",
        "print(y.shape)\n",
        "print(y)"
      ]
    },
    {
      "cell_type": "markdown",
      "metadata": {
        "id": "8tHksBGS658S"
      },
      "source": [
        "### Operacje na macierzach"
      ]
    },
    {
      "cell_type": "markdown",
      "metadata": {
        "id": "KA1aDNfb658S"
      },
      "source": [
        "**Operacje skalarne na macierzach**\n",
        "\n",
        "![image.png](attachment:image.png)\n",
        "\n",
        "_Bradcasting_ - rozwijanie operacji do pasującego wymiaru"
      ]
    },
    {
      "cell_type": "code",
      "execution_count": null,
      "metadata": {
        "id": "a_lcnft1658S"
      },
      "outputs": [],
      "source": [
        "x = np.array([1, 2, 3])\n",
        "print(x + 1)      # addition"
      ]
    },
    {
      "cell_type": "code",
      "execution_count": null,
      "metadata": {
        "id": "VAR88u5d658S"
      },
      "outputs": [],
      "source": [
        "x = np.array([1, 2, 3])\n",
        "print(x + 1)      # addition\n",
        "print(x - 1)      # subtraction\n",
        "print(x * 2)      # multiplication\n",
        "print(x // 2)     # integer division\n",
        "print(x ** 2)     # square\n",
        "print(x % 2)      # modulo\n",
        "print(1 / x)      # division"
      ]
    },
    {
      "cell_type": "markdown",
      "metadata": {
        "id": "upv6zfSE658S"
      },
      "source": [
        "**Operacja na macierzach o tych samych wymiarach**"
      ]
    },
    {
      "cell_type": "code",
      "execution_count": null,
      "metadata": {
        "id": "p2bg1Sxt658T"
      },
      "outputs": [],
      "source": [
        "x = np.array([0, 2, 4, 6, 8, 10]).reshape([2,3])\n",
        "y = np.array([1, 2, 3, 4, 5, 6]).reshape([2,3])\n",
        "x, y"
      ]
    },
    {
      "cell_type": "code",
      "execution_count": null,
      "metadata": {
        "scrolled": false,
        "id": "pn8x6y5H658T"
      },
      "outputs": [],
      "source": [
        "print(x + y)\n",
        "print(x - y)\n",
        "print(x * y)      # mnożenie element po elemencie\n",
        "print(x / y)      # dzielenie element po elemencie\n",
        "print(x // y)\n",
        "print(x ** y)"
      ]
    },
    {
      "cell_type": "markdown",
      "metadata": {
        "id": "P35bwwff658T"
      },
      "source": [
        "**Operacja na macierzach różnych wymiarach**\n",
        "_Broadkasting_\n",
        "![image.png](attachment:image.png)"
      ]
    },
    {
      "cell_type": "code",
      "execution_count": null,
      "metadata": {
        "id": "1DUWYoj7658T"
      },
      "outputs": [],
      "source": [
        "x = np.array([4, 5, 6, 7, 8, 9]).reshape([2,3])\n",
        "y = np.array([1, 2, 3])\n",
        "x + y"
      ]
    },
    {
      "cell_type": "markdown",
      "metadata": {
        "id": "TjOzqIuP658T"
      },
      "source": [
        "### Transpozycja"
      ]
    },
    {
      "cell_type": "code",
      "execution_count": null,
      "metadata": {
        "id": "62CUpAOo658T"
      },
      "outputs": [],
      "source": [
        "# transpozycja\n",
        "a = x.T\n",
        "print('x=\\n', x)\n",
        "print('a=\\n', a)"
      ]
    },
    {
      "cell_type": "markdown",
      "metadata": {
        "id": "OUs6ZvLh658e"
      },
      "source": [
        "### Mnożenie macierzy\n",
        "\n",
        "![image.png](attachment:image.png)"
      ]
    },
    {
      "cell_type": "code",
      "execution_count": null,
      "metadata": {
        "id": "lZGbbIje658e"
      },
      "outputs": [],
      "source": [
        "a = np.array([[1, 2, 3], [4, 5, 6]])\n",
        "b = np.array([1,2,3]).T\n",
        "np.matmul(a, b)            # matrix multiplication"
      ]
    },
    {
      "cell_type": "code",
      "execution_count": null,
      "metadata": {
        "id": "vzomaORh658e"
      },
      "outputs": [],
      "source": [
        "a @ b    # to samo co matmul"
      ]
    },
    {
      "cell_type": "code",
      "execution_count": null,
      "metadata": {
        "id": "FlIO4BcI658e"
      },
      "outputs": [],
      "source": [
        "np.dot(a,b)     # dot product"
      ]
    },
    {
      "cell_type": "markdown",
      "metadata": {
        "id": "_KeTmgsQ658f"
      },
      "source": [
        "### Indeksowanie elementów macierzy\n",
        "\n",
        "![image-2.png](attachment:image-2.png)"
      ]
    },
    {
      "cell_type": "code",
      "execution_count": null,
      "metadata": {
        "id": "liPwpZS9658f"
      },
      "outputs": [],
      "source": [
        "x = np.array([[1 ,2 ,3], [4, 5, 6]])\n",
        "x[1, 0]    # element: 2 wiersz, 1-sza kolumna"
      ]
    },
    {
      "cell_type": "code",
      "execution_count": null,
      "metadata": {
        "id": "km-ZyyJS658f"
      },
      "outputs": [],
      "source": [
        "x[0]   # pierwszy wiersz"
      ]
    },
    {
      "cell_type": "markdown",
      "metadata": {
        "id": "wJDON90T658f"
      },
      "source": [
        "**Indeksowanie zakresów za pomocą dwukropka**\n",
        "\n",
        "![image.png](attachment:image.png)"
      ]
    },
    {
      "cell_type": "markdown",
      "metadata": {
        "id": "fC5JiqtP658f"
      },
      "source": [
        "### Przekroje macierzy (slice)"
      ]
    },
    {
      "cell_type": "code",
      "execution_count": null,
      "metadata": {
        "id": "_ati0USj658f"
      },
      "outputs": [],
      "source": [
        "x = np.array([40, 41, 42, 43, 44, 45, 46])\n",
        "y = x[3:5]     # y jest przekrojem (slice) macierzy x elementów od 3 do 4, macierz y wskazuje wybrane dane z x\n",
        "print('x', x)\n",
        "print('y', y)"
      ]
    },
    {
      "cell_type": "code",
      "execution_count": null,
      "metadata": {
        "id": "UUQ2czqu658g"
      },
      "outputs": [],
      "source": [
        "y[:] = 1000    # zmiana elementów y, zmieni się też x (obie macierze to widok na te same dane w pamięci)\n",
        "print('x', x)\n",
        "print('y', y)"
      ]
    },
    {
      "cell_type": "code",
      "execution_count": null,
      "metadata": {
        "id": "Rw34wxan658g"
      },
      "outputs": [],
      "source": [
        "z = x[3:5].copy()   # utworzenie kopii macierzy, elementy z leżą w innej przestrzeni pamięci niż x i y\n",
        "print('z', z)"
      ]
    },
    {
      "cell_type": "code",
      "execution_count": null,
      "metadata": {
        "id": "DLVdxy5k658g"
      },
      "outputs": [],
      "source": [
        "z[:] = 500          # zmiana z nie zmieni x\n",
        "print('z', z)\n",
        "print('x', x)"
      ]
    },
    {
      "cell_type": "code",
      "execution_count": null,
      "metadata": {
        "id": "ntzGz9fL658g"
      },
      "outputs": [],
      "source": [
        "x = np.arange(12).reshape((3,4))\n",
        "print(x)"
      ]
    },
    {
      "cell_type": "code",
      "execution_count": null,
      "metadata": {
        "id": "cI45MR4n658g"
      },
      "outputs": [],
      "source": [
        "print(x[2, :])       # trzeci wiersz"
      ]
    },
    {
      "cell_type": "code",
      "execution_count": null,
      "metadata": {
        "id": "OufuXO0j658h"
      },
      "outputs": [],
      "source": [
        "print(x[:, -1])      # ostatnia kolumna"
      ]
    },
    {
      "cell_type": "code",
      "execution_count": null,
      "metadata": {
        "id": "B0IHOLda658h"
      },
      "outputs": [],
      "source": [
        "print(x[:2, 2:])     # dwa pierwsze wiersze i dwie ostatnie kolumny"
      ]
    },
    {
      "cell_type": "markdown",
      "metadata": {
        "id": "nNKXYxPQ658h"
      },
      "source": [
        "### Indeksowanie warunkowe"
      ]
    },
    {
      "cell_type": "code",
      "execution_count": null,
      "metadata": {
        "id": "LII7S0LA658h"
      },
      "outputs": [],
      "source": [
        "x = np.arange(12).reshape(3,4)\n",
        "print(x)\n",
        "x > 5      # rezultatem macierz boolowska"
      ]
    },
    {
      "cell_type": "code",
      "execution_count": null,
      "metadata": {
        "id": "gOf-bUPB658h"
      },
      "outputs": [],
      "source": [
        "x[ x > 5 ] = 0   # wyzerowanie el. większych od 5\n",
        "print(x)"
      ]
    },
    {
      "cell_type": "code",
      "execution_count": null,
      "metadata": {
        "id": "V-tDWHLg658i"
      },
      "outputs": [],
      "source": [
        "ind = ( x == 0 )        # zapamietanie indeksów spełniających warunek x == 0\n",
        "print(ind)          # ndarray typu bool\n",
        "print(x[ind])       # elementy x[] spełniające warunek\n",
        "print(x[~ind])      # negacja"
      ]
    },
    {
      "cell_type": "markdown",
      "metadata": {
        "id": "q9N5EcPh658i"
      },
      "source": [
        "### Przydatne funkcje"
      ]
    },
    {
      "cell_type": "code",
      "execution_count": null,
      "metadata": {
        "id": "l3OrONms658i"
      },
      "outputs": [],
      "source": [
        "y = np.random.rand(10) - 0.5\n",
        "print(y)\n",
        "\n",
        "print(np.abs(y))          # wartośc bezwzględna elementów\n",
        "print(np.exp(y))          # exponent elementów"
      ]
    },
    {
      "cell_type": "code",
      "execution_count": null,
      "metadata": {
        "id": "3QoeotmU658i"
      },
      "outputs": [],
      "source": [
        "print(np.sort(y))                     # sortowanie"
      ]
    },
    {
      "cell_type": "code",
      "execution_count": null,
      "metadata": {
        "id": "xy0UO1Ca658i"
      },
      "outputs": [],
      "source": [
        "print(\"Min = \",           np.min(y))             # minimalny element\n",
        "print(\"Max = \",           np.max(y))             # maksymalny welement\n",
        "print(\"Average = \",       np.mean(y))            # średnia wartość wszystkich elementów\n",
        "print(\"Std deviation = \", np.std(y))             # odchylenie standardowe\n",
        "print(\"Sum = \",           np.sum(y))             # suma wszystkich elementów"
      ]
    },
    {
      "cell_type": "markdown",
      "metadata": {
        "id": "YgWGFijo658j"
      },
      "source": [
        "### Suma po wymiarach (axis)\n",
        "\n",
        "![image.png](attachment:image.png)\n"
      ]
    },
    {
      "cell_type": "code",
      "execution_count": null,
      "metadata": {
        "id": "TA4XGTet658j"
      },
      "outputs": [],
      "source": [
        "x = np.array([[1, 2, 3], [4, 5, 6]])\n",
        "\n",
        "print('Suma axis=0: ', np.sum(x, axis=0))\n",
        "print('Suma axis=1: ', np.sum(x, axis=1))\n",
        "print('Liczba el. wikszych od 0.5 w kolumnach: ', np.sum(x > 3, axis=1))"
      ]
    },
    {
      "cell_type": "markdown",
      "metadata": {
        "id": "oYmJ5fRt658j"
      },
      "source": [
        "### Ćwicznie\n",
        "\n",
        "Wyzanacz wspólczynniki $a$ i $b$ z zadania z poprzedniego tygodnia z pomocą operacji numpy.\n",
        "\n",
        "Treść zadania: [https://github.com/IS-UMK/wdm_24_lab_01](https://github.com/IS-UMK/wdm_24_lab_01)\n",
        "\n"
      ]
    },
    {
      "cell_type": "code",
      "execution_count": 2,
      "metadata": {
        "colab": {
          "base_uri": "https://localhost:8080/"
        },
        "id": "M0f2yfcG658j",
        "outputId": "535cf8ad-63cb-4a79-c652-b9d5635b9f6c"
      },
      "outputs": [
        {
          "output_type": "stream",
          "name": "stdout",
          "text": [
            "Współczynnik a: -1.1064189189189189\n",
            "Wyraz wolny b: 14.08108108108108\n"
          ]
        }
      ],
      "source": [
        "import numpy as np\n",
        "x = np.array([ 8, 2, 11, 6, 5, 4, 12, 9, 6, 1 ])\n",
        "y = np.array([ 3, 10, 3, 6, 8, 12, 1, 4, 9, 14 ] )\n",
        "\n",
        "x_srednia = np.mean(x)\n",
        "y_srednia = np.mean(y)\n",
        "\n",
        "x_roznice = x - x_srednia\n",
        "y_roznice = y - y_srednia\n",
        "suma_iloczynów = np.dot(x_roznice, y_roznice)\n",
        "suma_kwadratow = np.dot(x_roznice, x_roznice)\n",
        "a = suma_iloczynów / suma_kwadratow\n",
        "\n",
        "b = y_srednia - a * x_srednia\n",
        "\n",
        "# Wyświetlenie wyników\n",
        "print(\"a:\", a)\n",
        "print(\"b:\", b)"
      ]
    },
    {
      "cell_type": "markdown",
      "metadata": {
        "id": "kQKHeyAz658j"
      },
      "source": [
        "### Wczytywanie danych z plików tekstowych (fomrat CSV)\n",
        "\n",
        "Przykładowe dane Irys dostepne w repozytorium w katalogu [dane/iris.data](dane/iris.data)"
      ]
    },
    {
      "cell_type": "code",
      "execution_count": null,
      "metadata": {
        "id": "Ul_hZFqZ658j"
      },
      "outputs": [],
      "source": [
        "data = np.loadtxt('dane/iris.data', delimiter=',')\n",
        "\n",
        "print(data.shape)\n",
        "print(data[:3])    # trzy pierwsze wiersze"
      ]
    },
    {
      "cell_type": "markdown",
      "metadata": {
        "id": "-Zb9b6bu658k"
      },
      "source": [
        "### Optymalizacja czasu wykonywania operacji macierzowych"
      ]
    },
    {
      "cell_type": "code",
      "execution_count": null,
      "metadata": {
        "id": "ArBYrwHG658m"
      },
      "outputs": [],
      "source": [
        "n = 1000\n",
        "x = np.random.rand(n)\n",
        "y = np.random.rand(n)\n",
        "z = np.zeros(x.shape)    # pre-alokacja macierzy z"
      ]
    },
    {
      "cell_type": "code",
      "execution_count": null,
      "metadata": {
        "id": "FGvmkIPT658n"
      },
      "outputs": [],
      "source": [
        "%%timeit\n",
        "# mnożenie za pomoca operatora *\n",
        "z = x * y"
      ]
    },
    {
      "cell_type": "code",
      "execution_count": null,
      "metadata": {
        "id": "YQcSfCiN658n"
      },
      "outputs": [],
      "source": [
        "%%timeit\n",
        "# mnożenie za pomoca funkcji multiply()\n",
        "z = np.multiply(x, y)"
      ]
    },
    {
      "cell_type": "code",
      "execution_count": null,
      "metadata": {
        "id": "POD3_h4s658n"
      },
      "outputs": [],
      "source": [
        "%%timeit\n",
        "# mnożenie w pętli\n",
        "for i in range(n):\n",
        "    z[i] = x[i] * y[i]"
      ]
    },
    {
      "cell_type": "markdown",
      "metadata": {
        "id": "Aaehwj6C658n"
      },
      "source": [
        "## MatPlotLib - wykresy\n",
        "\n",
        "Tutorial: <https://matplotlib.org/tutorials/index.html>\n",
        "\n",
        "* ``plot(x,y)`` wykres liniowy (lub punktowy)\n",
        "* ``bar(x, labels)`` wykres słupkowy\n",
        "* ``pie(x, labels)`` wykres kołowy\n",
        "* ``hist(x)`` histogram"
      ]
    },
    {
      "cell_type": "code",
      "execution_count": null,
      "metadata": {
        "id": "9242uWD0658n"
      },
      "outputs": [],
      "source": [
        "import matplotlib.pyplot as plt"
      ]
    },
    {
      "cell_type": "markdown",
      "metadata": {
        "id": "WD01lODE658o"
      },
      "source": [
        "### Wykres liniowy"
      ]
    },
    {
      "cell_type": "markdown",
      "metadata": {
        "id": "VaR5AmAX658o"
      },
      "source": [
        "Narysujmy przebieg funkcji sigmoidalnej $f(x) = \\frac{1}{1+e^{-\\alpha x}}$ na odcinku [-5, 5]\n",
        "\n"
      ]
    },
    {
      "cell_type": "code",
      "execution_count": null,
      "metadata": {
        "id": "SdB9wYER658o"
      },
      "outputs": [],
      "source": [
        "x = np.linspace(-5, 5, 100)\n",
        "y = 1.0 / (1.0 + np.exp(-x))\n",
        "\n",
        "plt.plot(x, y);"
      ]
    },
    {
      "cell_type": "markdown",
      "metadata": {
        "id": "xndqWbQe658o"
      },
      "source": [
        "Funkcji sigmoidalna ze współczynnikiem nachylenia $\\alpha=0.5, 1, 2, 100$"
      ]
    },
    {
      "cell_type": "code",
      "execution_count": null,
      "metadata": {
        "id": "a_lGNgo_658o"
      },
      "outputs": [],
      "source": [
        "for a in [0.5, 1.0, 2.0, 100]:\n",
        "    y = 1.0 / (1.0 + np.exp(-x * a))\n",
        "    plt.plot(x, y, label='a=' + str(a))\n",
        "\n",
        "plt.title('Funkcja sigmoidalna')\n",
        "plt.xlabel('x')\n",
        "plt.ylabel('f(x)')\n",
        "plt.legend();"
      ]
    },
    {
      "cell_type": "markdown",
      "metadata": {
        "id": "JzbqtQ0P658p"
      },
      "source": [
        "### Wykres punktowy (wykres rozrzutu)"
      ]
    },
    {
      "cell_type": "code",
      "execution_count": null,
      "metadata": {
        "id": "peHm_Zn4658p"
      },
      "outputs": [],
      "source": [
        "x1 = np.random.randn(100, 2)\n",
        "x2 = np.random.randn(100, 2) * 3 + 2\n",
        "\n",
        "plt.plot(x1[:,0], x1[:,1], 'ro')   # red circle (o)\n",
        "plt.plot(x2[:,0], x2[:,1], 'bx')   # blue cross (x)"
      ]
    },
    {
      "cell_type": "markdown",
      "metadata": {
        "id": "wU4bm10-658p"
      },
      "source": [
        "### Ćwiczenie\n",
        "\n",
        "Narysuj wykres przedstawiający punkty z zadania z poprzednich zajęć wraz z linią wyznaczoną metodą najmniejszych kwadratów\n",
        "\n",
        "$f(x) = -1.1x + 14$"
      ]
    },
    {
      "cell_type": "code",
      "execution_count": 3,
      "metadata": {
        "colab": {
          "base_uri": "https://localhost:8080/",
          "height": 449
        },
        "id": "piWQrtlT658p",
        "outputId": "b9a67792-5dba-4942-dbdd-166ef783135c"
      },
      "outputs": [
        {
          "output_type": "display_data",
          "data": {
            "text/plain": [
              "<Figure size 640x480 with 1 Axes>"
            ],
            "image/png": "[encoded data removed]"
          },
          "metadata": {}
        }
      ],
      "source": [
        "\n",
        "import matplotlib.pyplot as plt\n",
        "\n",
        "def f(x):\n",
        "    return -1.1 * x + 14\n",
        "\n",
        "x = np.array([8, 2, 11, 6, 5, 4, 12, 9, 6, 1])\n",
        "y = np.array([3, 10, 3, 6, 8, 12, 1, 4, 9, 14])\n",
        "\n",
        "x_min = min(x) - 1\n",
        "x_max = max(x) + 1\n",
        "\n",
        "y_f = [f(xi) for xi in np.linspace(x_min, x_max, 100)]\n",
        "\n",
        "plt.plot(np.linspace(x_min, x_max, 100), y_f, color=\"red\", label=\"f(x)\")\n",
        "plt.scatter(x, y, color=\"blue\", label=\"Dane\")\n",
        "\n",
        "plt.xlabel(\"x\")\n",
        "plt.ylabel(\"y\")\n",
        "plt.legend()\n",
        "\n",
        "plt.show()\n",
        "\n",
        "\n"
      ]
    },
    {
      "cell_type": "markdown",
      "metadata": {
        "id": "FZAjyHY0658p"
      },
      "source": [
        "### Wizualizacja macierzy: matshow"
      ]
    },
    {
      "cell_type": "code",
      "execution_count": null,
      "metadata": {
        "id": "YuhcMz6y658p"
      },
      "outputs": [],
      "source": [
        "x = np.random.randn(4, 6)\n",
        "plt.matshow(x)\n",
        "plt.colorbar()"
      ]
    },
    {
      "cell_type": "markdown",
      "metadata": {
        "id": "eSoSwXaT658q"
      },
      "source": [
        "### Wykres słupkowy i kołowy"
      ]
    },
    {
      "cell_type": "code",
      "execution_count": null,
      "metadata": {
        "id": "d8hzV8_m658q"
      },
      "outputs": [],
      "source": [
        "x = ['a', 'b', 'c']\n",
        "y = [3, 5, 12]\n",
        "\n",
        "plt.bar(x, y)"
      ]
    },
    {
      "cell_type": "code",
      "execution_count": null,
      "metadata": {
        "id": "ihSLAWs1658q"
      },
      "outputs": [],
      "source": [
        "plt.pie(y, labels=x);"
      ]
    },
    {
      "cell_type": "markdown",
      "metadata": {
        "id": "27kcchUr658q"
      },
      "source": [
        "### Histogram"
      ]
    },
    {
      "cell_type": "code",
      "execution_count": null,
      "metadata": {
        "id": "xzQGB6UG658q"
      },
      "outputs": [],
      "source": [
        "x = np.random.randn(10000, 1) * 3 + 2\n",
        "plt.hist(x);"
      ]
    },
    {
      "cell_type": "code",
      "execution_count": null,
      "metadata": {
        "id": "suSMbPT2658q"
      },
      "outputs": [],
      "source": [
        "import matplotlib.pyplot as plt\n",
        "data = np.loadtxt('dane/iris.data', delimiter=',')\n",
        "\n",
        "plt.hist(data[:, 2], bins=20);"
      ]
    },
    {
      "cell_type": "code",
      "execution_count": null,
      "metadata": {
        "id": "B18_mUPi658r"
      },
      "outputs": [],
      "source": [
        "plt.hist(data[data[:,4] == 0, 2], label='Setosa')\n",
        "plt.hist(data[data[:,4] != 0, 2], label='Not Setosa')\n",
        "plt.legend()\n"
      ]
    },
    {
      "cell_type": "code",
      "execution_count": null,
      "metadata": {
        "id": "LNt9yzT7658r"
      },
      "outputs": [],
      "source": [
        "plt.figure(figsize=(10,10))\n",
        "for i in (0, 1, 2):\n",
        "    plt.plot(data[data[:,4]==i, 2], data[data[:,4]==i, 3], 'o')\n",
        "plt.xlabel(\"Długośc płatka\")\n",
        "plt.ylabel('Szerokość płatka')\n",
        "plt.show()"
      ]
    },
    {
      "cell_type": "markdown",
      "metadata": {
        "id": "7TGVjRcr658r"
      },
      "source": [
        "## Zadanie: Włoskie wina\n",
        "\n",
        "Wykonaj analizę danych Wine zgodnie z poniższymi punktami.  \n",
        "Zbiór danych znajduje się w katalogu repizytorium [dane/wine.data](dane/wine.data)\n",
        "\n",
        "Plik ``wine.data`` zawiera pomiary własności chemicznych 3 odmian Włoskich win.  \n",
        "Format danych:  \n",
        "```\n",
        "  1,14.23,1.71,2.43,15.6,127,2.8,3.06,.28,2.29,5.64,1.04,3.92,1065\n",
        "  2,13.2,1.78,2.14,11.2,100,2.65,2.76,.26,1.28,4.38,1.05,3.4,1050\n",
        "  3,13.16,2.36,2.67,18.6,101,2.8,3.24,.3,2.81,5.68,1.03,3.17,1185\n",
        "   ...\n",
        "```\n",
        "Każda linia zawiera 14 liczb oddzielonych przecinkami określających wartości pomiaru dla pojedynczego wina.  \n",
        "Pierwsza zmienna to odmiana wina (wartość 1, 2 lub 3) pozostałe to zmienne ciągłe (wyniki pomiarów):\n",
        "```\n",
        "  1 Odmiana (1,2,3),  \n",
        "  2 Alcohol,  \n",
        "  3 Malic acid,  \n",
        "  4 Ash,  \n",
        "  5 Alcalinity of ash,  \n",
        "  6 Magnesium,  \n",
        "  7 Total phenols,\n",
        "  8 Flavanoids,  \n",
        "  9 Nonflavanoid phenols,  \n",
        "  10 Proanthocyanins,  \n",
        "  11 Color intensity,  \n",
        "  12 Hue,  \n",
        "  13 OD280/OD315 of diluted wines,\n",
        "  14 Proline\n",
        "```\n",
        "---\n",
        "\n",
        "1. Korzystając z pakietu ``numpy`` wczytaj dane ``wine.data``.  \n",
        "Utwórz macierz ``X`` o wymiarze ``N x 13`` zawierającą w kolumnach wszystkie 13 zmiennych opisujących wina (zmienne od 2 do ostatniej).  \n",
        "Utwórz wektor ``y`` o długości ``N`` zaierający etykiety klas (pierwsza kolumna danych: ``Odmiana``).  "
      ]
    },
    {
      "cell_type": "code",
      "execution_count": 4,
      "metadata": {
        "colab": {
          "base_uri": "https://localhost:8080/",
          "height": 356
        },
        "id": "Ir5P_QAE658r",
        "outputId": "2c1759f1-82f0-499c-db26-05f3b723ae84"
      },
      "outputs": [
        {
          "output_type": "error",
          "ename": "FileNotFoundError",
          "evalue": "dane/wine.data not found.",
          "traceback": [
            "\u001b[0;31m---------------------------------------------------------------------------\u001b[0m",
            "\u001b[0;31mFileNotFoundError\u001b[0m                         Traceback (most recent call last)",
            "\u001b[0;32m<ipython-input-4-5b4ee3dfafcb>\u001b[0m in \u001b[0;36m<cell line: 2>\u001b[0;34m()\u001b[0m\n\u001b[1;32m      1\u001b[0m \u001b[0;32mimport\u001b[0m \u001b[0mnumpy\u001b[0m \u001b[0;32mas\u001b[0m \u001b[0mnp\u001b[0m\u001b[0;34m\u001b[0m\u001b[0;34m\u001b[0m\u001b[0m\n\u001b[0;32m----> 2\u001b[0;31m \u001b[0mdata\u001b[0m \u001b[0;34m=\u001b[0m \u001b[0mnp\u001b[0m\u001b[0;34m.\u001b[0m\u001b[0mloadtxt\u001b[0m\u001b[0;34m(\u001b[0m\u001b[0;34m'dane/wine.data'\u001b[0m\u001b[0;34m,\u001b[0m \u001b[0mdelimiter\u001b[0m\u001b[0;34m=\u001b[0m\u001b[0;34m','\u001b[0m\u001b[0;34m)\u001b[0m\u001b[0;34m\u001b[0m\u001b[0;34m\u001b[0m\u001b[0m\n\u001b[0m\u001b[1;32m      3\u001b[0m \u001b[0;34m\u001b[0m\u001b[0m\n\u001b[1;32m      4\u001b[0m \u001b[0mX\u001b[0m \u001b[0;34m=\u001b[0m \u001b[0mdata\u001b[0m\u001b[0;34m[\u001b[0m\u001b[0;34m:\u001b[0m\u001b[0;34m,\u001b[0m \u001b[0;36m1\u001b[0m\u001b[0;34m:\u001b[0m\u001b[0;34m]\u001b[0m\u001b[0;34m\u001b[0m\u001b[0;34m\u001b[0m\u001b[0m\n\u001b[1;32m      5\u001b[0m \u001b[0;34m\u001b[0m\u001b[0m\n",
            "\u001b[0;32m/usr/local/lib/python3.10/dist-packages/numpy/lib/npyio.py\u001b[0m in \u001b[0;36mloadtxt\u001b[0;34m(fname, dtype, comments, delimiter, converters, skiprows, usecols, unpack, ndmin, encoding, max_rows, quotechar, like)\u001b[0m\n\u001b[1;32m   1371\u001b[0m         \u001b[0mdelimiter\u001b[0m \u001b[0;34m=\u001b[0m \u001b[0mdelimiter\u001b[0m\u001b[0;34m.\u001b[0m\u001b[0mdecode\u001b[0m\u001b[0;34m(\u001b[0m\u001b[0;34m'latin1'\u001b[0m\u001b[0;34m)\u001b[0m\u001b[0;34m\u001b[0m\u001b[0;34m\u001b[0m\u001b[0m\n\u001b[1;32m   1372\u001b[0m \u001b[0;34m\u001b[0m\u001b[0m\n\u001b[0;32m-> 1373\u001b[0;31m     arr = _read(fname, dtype=dtype, comment=comment, delimiter=delimiter,\n\u001b[0m\u001b[1;32m   1374\u001b[0m                 \u001b[0mconverters\u001b[0m\u001b[0;34m=\u001b[0m\u001b[0mconverters\u001b[0m\u001b[0;34m,\u001b[0m \u001b[0mskiplines\u001b[0m\u001b[0;34m=\u001b[0m\u001b[0mskiprows\u001b[0m\u001b[0;34m,\u001b[0m \u001b[0musecols\u001b[0m\u001b[0;34m=\u001b[0m\u001b[0musecols\u001b[0m\u001b[0;34m,\u001b[0m\u001b[0;34m\u001b[0m\u001b[0;34m\u001b[0m\u001b[0m\n\u001b[1;32m   1375\u001b[0m                 \u001b[0munpack\u001b[0m\u001b[0;34m=\u001b[0m\u001b[0munpack\u001b[0m\u001b[0;34m,\u001b[0m \u001b[0mndmin\u001b[0m\u001b[0;34m=\u001b[0m\u001b[0mndmin\u001b[0m\u001b[0;34m,\u001b[0m \u001b[0mencoding\u001b[0m\u001b[0;34m=\u001b[0m\u001b[0mencoding\u001b[0m\u001b[0;34m,\u001b[0m\u001b[0;34m\u001b[0m\u001b[0;34m\u001b[0m\u001b[0m\n",
            "\u001b[0;32m/usr/local/lib/python3.10/dist-packages/numpy/lib/npyio.py\u001b[0m in \u001b[0;36m_read\u001b[0;34m(fname, delimiter, comment, quote, imaginary_unit, usecols, skiplines, max_rows, converters, ndmin, unpack, dtype, encoding)\u001b[0m\n\u001b[1;32m    990\u001b[0m             \u001b[0mfname\u001b[0m \u001b[0;34m=\u001b[0m \u001b[0mos\u001b[0m\u001b[0;34m.\u001b[0m\u001b[0mfspath\u001b[0m\u001b[0;34m(\u001b[0m\u001b[0mfname\u001b[0m\u001b[0;34m)\u001b[0m\u001b[0;34m\u001b[0m\u001b[0;34m\u001b[0m\u001b[0m\n\u001b[1;32m    991\u001b[0m         \u001b[0;32mif\u001b[0m \u001b[0misinstance\u001b[0m\u001b[0;34m(\u001b[0m\u001b[0mfname\u001b[0m\u001b[0;34m,\u001b[0m \u001b[0mstr\u001b[0m\u001b[0;34m)\u001b[0m\u001b[0;34m:\u001b[0m\u001b[0;34m\u001b[0m\u001b[0;34m\u001b[0m\u001b[0m\n\u001b[0;32m--> 992\u001b[0;31m             \u001b[0mfh\u001b[0m \u001b[0;34m=\u001b[0m \u001b[0mnp\u001b[0m\u001b[0;34m.\u001b[0m\u001b[0mlib\u001b[0m\u001b[0;34m.\u001b[0m\u001b[0m_datasource\u001b[0m\u001b[0;34m.\u001b[0m\u001b[0mopen\u001b[0m\u001b[0;34m(\u001b[0m\u001b[0mfname\u001b[0m\u001b[0;34m,\u001b[0m \u001b[0;34m'rt'\u001b[0m\u001b[0;34m,\u001b[0m \u001b[0mencoding\u001b[0m\u001b[0;34m=\u001b[0m\u001b[0mencoding\u001b[0m\u001b[0;34m)\u001b[0m\u001b[0;34m\u001b[0m\u001b[0;34m\u001b[0m\u001b[0m\n\u001b[0m\u001b[1;32m    993\u001b[0m             \u001b[0;32mif\u001b[0m \u001b[0mencoding\u001b[0m \u001b[0;32mis\u001b[0m \u001b[0;32mNone\u001b[0m\u001b[0;34m:\u001b[0m\u001b[0;34m\u001b[0m\u001b[0;34m\u001b[0m\u001b[0m\n\u001b[1;32m    994\u001b[0m                 \u001b[0mencoding\u001b[0m \u001b[0;34m=\u001b[0m \u001b[0mgetattr\u001b[0m\u001b[0;34m(\u001b[0m\u001b[0mfh\u001b[0m\u001b[0;34m,\u001b[0m \u001b[0;34m'encoding'\u001b[0m\u001b[0;34m,\u001b[0m \u001b[0;34m'latin1'\u001b[0m\u001b[0;34m)\u001b[0m\u001b[0;34m\u001b[0m\u001b[0;34m\u001b[0m\u001b[0m\n",
            "\u001b[0;32m/usr/local/lib/python3.10/dist-packages/numpy/lib/_datasource.py\u001b[0m in \u001b[0;36mopen\u001b[0;34m(path, mode, destpath, encoding, newline)\u001b[0m\n\u001b[1;32m    191\u001b[0m \u001b[0;34m\u001b[0m\u001b[0m\n\u001b[1;32m    192\u001b[0m     \u001b[0mds\u001b[0m \u001b[0;34m=\u001b[0m \u001b[0mDataSource\u001b[0m\u001b[0;34m(\u001b[0m\u001b[0mdestpath\u001b[0m\u001b[0;34m)\u001b[0m\u001b[0;34m\u001b[0m\u001b[0;34m\u001b[0m\u001b[0m\n\u001b[0;32m--> 193\u001b[0;31m     \u001b[0;32mreturn\u001b[0m \u001b[0mds\u001b[0m\u001b[0;34m.\u001b[0m\u001b[0mopen\u001b[0m\u001b[0;34m(\u001b[0m\u001b[0mpath\u001b[0m\u001b[0;34m,\u001b[0m \u001b[0mmode\u001b[0m\u001b[0;34m,\u001b[0m \u001b[0mencoding\u001b[0m\u001b[0;34m=\u001b[0m\u001b[0mencoding\u001b[0m\u001b[0;34m,\u001b[0m \u001b[0mnewline\u001b[0m\u001b[0;34m=\u001b[0m\u001b[0mnewline\u001b[0m\u001b[0;34m)\u001b[0m\u001b[0;34m\u001b[0m\u001b[0;34m\u001b[0m\u001b[0m\n\u001b[0m\u001b[1;32m    194\u001b[0m \u001b[0;34m\u001b[0m\u001b[0m\n\u001b[1;32m    195\u001b[0m \u001b[0;34m\u001b[0m\u001b[0m\n",
            "\u001b[0;32m/usr/local/lib/python3.10/dist-packages/numpy/lib/_datasource.py\u001b[0m in \u001b[0;36mopen\u001b[0;34m(self, path, mode, encoding, newline)\u001b[0m\n\u001b[1;32m    531\u001b[0m                                       encoding=encoding, newline=newline)\n\u001b[1;32m    532\u001b[0m         \u001b[0;32melse\u001b[0m\u001b[0;34m:\u001b[0m\u001b[0;34m\u001b[0m\u001b[0;34m\u001b[0m\u001b[0m\n\u001b[0;32m--> 533\u001b[0;31m             \u001b[0;32mraise\u001b[0m \u001b[0mFileNotFoundError\u001b[0m\u001b[0;34m(\u001b[0m\u001b[0;34mf\"{path} not found.\"\u001b[0m\u001b[0;34m)\u001b[0m\u001b[0;34m\u001b[0m\u001b[0;34m\u001b[0m\u001b[0m\n\u001b[0m\u001b[1;32m    534\u001b[0m \u001b[0;34m\u001b[0m\u001b[0m\n\u001b[1;32m    535\u001b[0m \u001b[0;34m\u001b[0m\u001b[0m\n",
            "\u001b[0;31mFileNotFoundError\u001b[0m: dane/wine.data not found."
          ]
        }
      ],
      "source": [
        "import numpy as np\n",
        "data = np.loadtxt('dane/wine.data', delimiter=',')\n",
        "\n",
        "X = data[:, 1:]\n",
        "\n",
        "print(X.shape)\n",
        "y = data[:, 0]\n",
        "\n",
        "print(y.shape)\n",
        "\n"
      ]
    },
    {
      "cell_type": "markdown",
      "metadata": {
        "id": "r2p4Fzv4658r"
      },
      "source": [
        "2. Wyznacz ile przypadków wystepuje w każdej z 3 grup win (wartości 1, 2, 3 zmiennej ``Odmiana``) i jaki procent całości stanowią te grupy. Utwórz wykres przedstawiąjący liczebność w grupach (np. słupkowy lub kołowy)."
      ]
    },
    {
      "cell_type": "code",
      "execution_count": null,
      "metadata": {
        "scrolled": false,
        "id": "i4qXCRv3658r"
      },
      "outputs": [],
      "source": [
        "\n",
        "\n",
        "\n"
      ]
    },
    {
      "cell_type": "markdown",
      "metadata": {
        "id": "MSJpkqo3658s"
      },
      "source": [
        "3. Wykonaj standaryzację danych zawartych w macierzy ``X``.  \n",
        "Standaryzacja polega na zmianie zakresu wartości zmiennej tak aby jej wartość średnia wynosiła 0 a odchylenie standardowe wynosiło 1, zgodnie z ponizszą transformacją:  \n",
        "$$ x_{std} = \\frac{x - \\bar{x}}{\\sigma_x} $$\n",
        "gdzie $\\bar{x}$ to wartość średnia zamiennej $x$ a $\\sigma_x$ to odchylenie standardowe zmiennej $x$.  \n",
        "\n",
        "Sprawdź poprawność wykonanej transformacji wypisując wartości średnie i odchypenia standardowe uzyskanych zmiennych i wyświetlając wykres skrzynkowy (``boxplot``) prezentujący rozklad wszystkich zmiennych."
      ]
    },
    {
      "cell_type": "code",
      "execution_count": null,
      "metadata": {
        "id": "_OizjJZK658s"
      },
      "outputs": [],
      "source": [
        "\n",
        "\n",
        "\n",
        "\n"
      ]
    },
    {
      "cell_type": "markdown",
      "metadata": {
        "id": "3nULQkEK658s"
      },
      "source": [
        "4. Wyznacz macierz wspólczynników korelacji liniowej dla zmiennych ``X``.  \n",
        "Jeżeli $\\mathbf{X_{std}}$ zawiera wystandaryzowane dane to macierz ta może być wyznaczona ze wzoru  \n",
        "$$ \\mathbf{R} = \\mathbf{X}_{std}^T\\mathbf{X}_{std} $$  \n",
        "Możesz w tym celu też posłuzyć się funkcją [numpy.corrcoeff()](https://numpy.org/doc/stable/reference/generated/numpy.corrcoef.html), w tym wypadku dane nie muszą być wystandaryzowane.  \n",
        "Użyj funkcji [matshow()](https://matplotlib.org/stable/api/_as_gen/matplotlib.pyplot.matshow.html) do zwizualizowania zawartości macirzy korelacji."
      ]
    },
    {
      "cell_type": "code",
      "execution_count": null,
      "metadata": {
        "id": "13W1XmUH658s"
      },
      "outputs": [],
      "source": [
        "\n",
        "\n",
        "\n",
        "\n"
      ]
    },
    {
      "cell_type": "markdown",
      "metadata": {
        "id": "yKEv51q1658s"
      },
      "source": [
        "5. Na podstaiwie uzyskanej macierzy korelacji wybierz parę zmiennych o najwyższej korelacji liniowej.  \n",
        "Narysuj wykres rozrzutu prezentujący rozkład danych w tych dwóch zmiennych.    \n",
        "Nanieś na wykres linię prostą dopasowaną do punktów pomiarowych za pomocą metody najmniejszych kwadratów.    \n",
        "Dla zmiennych wystandaryzowanych metoda najmniejszych kwadratów znacznie się upraszcza, gdzyż  \n",
        "\n",
        "$$a = \\frac{\\sum_{i=1}^n\\left(x_i-\\bar{x}\\right)\\left(y_i-\\bar{y}\\right)}{\\sum_{i=1}^n\\left(x_i-\\bar{x}\\right)^2} = \\operatorname{corr}(x,y) \\qquad b = \\bar{y} - a\\bar{x} = 0$$"
      ]
    },
    {
      "cell_type": "code",
      "execution_count": null,
      "metadata": {
        "id": "XrMjfl89658s"
      },
      "outputs": [],
      "source": [
        "\n",
        "\n",
        "\n",
        "\n"
      ]
    }
  ],
  "metadata": {
    "kernelspec": {
      "display_name": "Python 3 (ipykernel)",
      "language": "python",
      "name": "python3"
    },
    "language_info": {
      "codemirror_mode": {
        "name": "ipython",
        "version": 3
      },
      "file_extension": ".py",
      "mimetype": "text/x-python",
      "name": "python",
      "nbconvert_exporter": "python",
      "pygments_lexer": "ipython3",
      "version": "3.9.7"
    },
    "toc": {
      "base_numbering": 1,
      "nav_menu": {},
      "number_sections": true,
      "sideBar": true,
      "skip_h1_title": false,
      "title_cell": "Table of Contents",
      "title_sidebar": "Contents",
      "toc_cell": false,
      "toc_position": {},
      "toc_section_display": true,
      "toc_window_display": true
    },
    "varInspector": {
      "cols": {
        "lenName": 16,
        "lenType": 16,
        "lenVar": 40
      },
      "kernels_config": {
        "python": {
          "delete_cmd_postfix": "",
          "delete_cmd_prefix": "del ",
          "library": "var_list.py",
          "varRefreshCmd": "print(var_dic_list())"
        },
        "r": {
          "delete_cmd_postfix": ") ",
          "delete_cmd_prefix": "rm(",
          "library": "var_list.r",
          "varRefreshCmd": "cat(var_dic_list()) "
        }
      },
      "types_to_exclude": [
        "module",
        "function",
        "builtin_function_or_method",
        "instance",
        "_Feature"
      ],
      "window_display": false
    },
    "colab": {
      "provenance": []
    }
  },
  "nbformat": 4,
  "nbformat_minor": 0
}