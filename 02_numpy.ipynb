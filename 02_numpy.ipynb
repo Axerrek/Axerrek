{
  "cells": [
    {
      "cell_type": "markdown",
      "metadata": {
        "id": "Oaa7ORs_AmLy"
      },
      "source": [
        "# Biblioteki Python: numpy, matplotlib, ...\n",
        "\n",
        "* moduły, import bibliotek\n",
        "* numpy - operacje macierzowe (_a la_ Matlab)\n",
        "* matplotlib - wykresy (_a la_ Matlab)\n"
      ]
    },
    {
      "cell_type": "markdown",
      "metadata": {
        "id": "SHrZ7DdrAmL2"
      },
      "source": [
        "## Moduły i pakiety\n",
        "\n",
        "Lista wbudowanych funkcji: https://docs.python.org/3/library/functions.html  \n",
        "\n",
        "Lista wbudowanych pakietów: https://docs.python.org/3/library/index.html\n",
        "\n",
        "Przykład:\n",
        "* **math** https://docs.python.org/3/library/math.html\n",
        "* **random** https://docs.python.org/3/library/random.html\n",
        "* **time** https://docs.python.org/3/library/time.html"
      ]
    },
    {
      "cell_type": "markdown",
      "metadata": {
        "id": "PtE8Jgz0AmL3"
      },
      "source": [
        "## Importowanie modułów\n"
      ]
    },
    {
      "cell_type": "code",
      "execution_count": null,
      "metadata": {
        "id": "-TsWLG6_AmL4"
      },
      "outputs": [],
      "source": [
        "import math\n",
        "\n",
        "x = math.sqrt(2)\n",
        "print(x)"
      ]
    },
    {
      "cell_type": "markdown",
      "metadata": {
        "id": "qnU1luHIAmL5"
      },
      "source": [
        "Importowanie z nadaniem aliasu (własnej nazwy)"
      ]
    },
    {
      "cell_type": "code",
      "execution_count": null,
      "metadata": {
        "id": "VLCq3TvNAmL5"
      },
      "outputs": [],
      "source": [
        "import random as r\n",
        "\n",
        "for i in range(10):\n",
        "    print(r.random())"
      ]
    },
    {
      "cell_type": "markdown",
      "metadata": {
        "id": "0yf8aTtoAmL6"
      },
      "source": [
        "Importowanie pojedynczej funkcji z pakietu"
      ]
    },
    {
      "cell_type": "code",
      "execution_count": null,
      "metadata": {
        "id": "_N9a-ERNAmL6"
      },
      "outputs": [],
      "source": [
        "from time import sleep\n",
        "\n",
        "for i in range(10, 1, -1):\n",
        "    print(i)\n",
        "    sleep(1)\n",
        "\n",
        "print('Start!')"
      ]
    },
    {
      "cell_type": "markdown",
      "metadata": {
        "id": "-0eLDAiHAmL7"
      },
      "source": [
        "## NumPy - bibloteka do obliczeń numerycznych\n",
        "\n",
        "NumPy tutorial: <https://numpy.org/devdocs/user/quickstart.html>"
      ]
    },
    {
      "cell_type": "code",
      "execution_count": null,
      "metadata": {
        "id": "o9zXdUxpAmL7"
      },
      "outputs": [],
      "source": [
        "import numpy as np"
      ]
    },
    {
      "cell_type": "code",
      "execution_count": null,
      "metadata": {
        "id": "Dn34BnZyAmL7"
      },
      "outputs": [],
      "source": [
        "a = np.array([1, 2, 3])     # tablica numpy (ndarray), 1-wymiarowa (wektor)\n",
        "print(a)\n",
        "print(type(a))"
      ]
    },
    {
      "cell_type": "markdown",
      "metadata": {
        "id": "D1UzZMy2AmL7"
      },
      "source": [
        "### Obiekt array\n",
        "\n",
        "![image-2.png](attachment:image-2.png)"
      ]
    },
    {
      "cell_type": "code",
      "execution_count": null,
      "metadata": {
        "id": "f9a1Ie61AmL8"
      },
      "outputs": [],
      "source": [
        "print(a)\n",
        "print(a.ndim)       # liczba wymiarów\n",
        "print(a.shape)      # wymiary (kształt) macierzy\n",
        "print(a.dtype)      # typ danych\n",
        "print(a.size)       # liczba elementów"
      ]
    },
    {
      "cell_type": "markdown",
      "metadata": {
        "id": "c6nppLYxAmL8"
      },
      "source": [
        "### Macierz  2D\n",
        "\n",
        "![image.png](attachment:image.png)"
      ]
    },
    {
      "cell_type": "code",
      "execution_count": null,
      "metadata": {
        "id": "BhttHbkzAmL8"
      },
      "outputs": [],
      "source": [
        "b = np.array([[1, 2, 3], [3, 5, 6]])   # tablica 2-wymiarowa\n",
        "print(b)"
      ]
    },
    {
      "cell_type": "code",
      "execution_count": null,
      "metadata": {
        "id": "MMspCMRTAmL8"
      },
      "outputs": [],
      "source": [
        "print(b.ndim)       # liczba wymiarów\n",
        "print(b.shape)      # wymiary (kształt) macierzy\n",
        "print(b.dtype)      # typ danych\n",
        "print(b.size)       # liczba elementów"
      ]
    },
    {
      "cell_type": "markdown",
      "metadata": {
        "id": "MqLjUA2SAmL9"
      },
      "source": [
        "### Funkcje do generowania tablic"
      ]
    },
    {
      "cell_type": "code",
      "execution_count": null,
      "metadata": {
        "id": "TpH_jK29AmL9"
      },
      "outputs": [],
      "source": [
        "np.random.rand(4)           # liczby losowe z rozkładu jednostajnego [0,1]"
      ]
    },
    {
      "cell_type": "code",
      "execution_count": null,
      "metadata": {
        "id": "r-R_t605AmL9"
      },
      "outputs": [],
      "source": [
        "np.random.randn(5)          # rozkład normalny"
      ]
    },
    {
      "cell_type": "code",
      "execution_count": null,
      "metadata": {
        "id": "NvK1DsyLAmL9"
      },
      "outputs": [],
      "source": [
        "np.arange(-10, 10, 2)         # wartości od -10 do 10 z krokiem 2"
      ]
    },
    {
      "cell_type": "code",
      "execution_count": null,
      "metadata": {
        "id": "wCfYTLNyAmL9"
      },
      "outputs": [],
      "source": [
        "np.arange(12).reshape(3, 4)  # reshape to a matrix"
      ]
    },
    {
      "cell_type": "code",
      "execution_count": null,
      "metadata": {
        "id": "1_YCvBwRAmL-"
      },
      "outputs": [],
      "source": [
        "np.linspace(0, 1, 10)         # 10 kolejnych wartości z odcinka [0,1]"
      ]
    },
    {
      "cell_type": "code",
      "execution_count": null,
      "metadata": {
        "id": "EO8UJ1GOAmL-"
      },
      "outputs": [],
      "source": [
        "np.zeros((3, 5))             # macierz zerowa"
      ]
    },
    {
      "cell_type": "code",
      "execution_count": null,
      "metadata": {
        "id": "IE7XACGcAmL-"
      },
      "outputs": [],
      "source": [
        "np.eye(5)                   # macierz jednostkowa (diagonalna)"
      ]
    },
    {
      "cell_type": "code",
      "execution_count": null,
      "metadata": {
        "id": "inQiGSXuAmL-"
      },
      "outputs": [],
      "source": [
        "np.ones((5,1))              # macierz jedynek"
      ]
    },
    {
      "cell_type": "markdown",
      "metadata": {
        "id": "PBtuHhJRAmL-"
      },
      "source": [
        "### Zmiana kształtu mcierzy"
      ]
    },
    {
      "cell_type": "code",
      "execution_count": null,
      "metadata": {
        "id": "_l1UBOCIAmL-"
      },
      "outputs": [],
      "source": [
        "x = np.arange(12)\n",
        "print(x.shape)\n",
        "print(x)"
      ]
    },
    {
      "cell_type": "code",
      "execution_count": null,
      "metadata": {
        "id": "B7hdpEKDAmL_"
      },
      "outputs": [],
      "source": [
        "y = x.reshape([3,4])\n",
        "print(y.shape)\n",
        "print(y)"
      ]
    },
    {
      "cell_type": "markdown",
      "metadata": {
        "id": "_AEwWD3fAmL_"
      },
      "source": [
        "### Operacje na macierzach"
      ]
    },
    {
      "cell_type": "markdown",
      "metadata": {
        "id": "DhIKkjDTAmL_"
      },
      "source": [
        "**Operacje skalarne na macierzach**\n",
        "\n",
        "![image.png](attachment:image.png)\n",
        "\n",
        "_Bradcasting_ - rozwijanie operacji do pasującego wymiaru"
      ]
    },
    {
      "cell_type": "code",
      "execution_count": null,
      "metadata": {
        "id": "JANo80GXAmL_"
      },
      "outputs": [],
      "source": [
        "x = np.array([1, 2, 3])\n",
        "print(x + 1)      # addition"
      ]
    },
    {
      "cell_type": "code",
      "execution_count": null,
      "metadata": {
        "id": "uXL0ZpcpAmL_"
      },
      "outputs": [],
      "source": [
        "x = np.array([1, 2, 3])\n",
        "print(x + 1)      # addition\n",
        "print(x - 1)      # subtraction\n",
        "print(x * 2)      # multiplication\n",
        "print(x // 2)     # integer division\n",
        "print(x ** 2)     # square\n",
        "print(x % 2)      # modulo\n",
        "print(1 / x)      # division"
      ]
    },
    {
      "cell_type": "markdown",
      "metadata": {
        "id": "YsY8s9w9AmL_"
      },
      "source": [
        "**Operacja na macierzach o tych samych wymiarach**"
      ]
    },
    {
      "cell_type": "code",
      "execution_count": null,
      "metadata": {
        "id": "SxSL3XHHAmL_"
      },
      "outputs": [],
      "source": [
        "x = np.array([0, 2, 4, 6, 8, 10]).reshape([2,3])\n",
        "y = np.array([1, 2, 3, 4, 5, 6]).reshape([2,3])\n",
        "x, y"
      ]
    },
    {
      "cell_type": "code",
      "execution_count": null,
      "metadata": {
        "scrolled": false,
        "id": "FDizBArYAmMA"
      },
      "outputs": [],
      "source": [
        "print(x + y)\n",
        "print(x - y)\n",
        "print(x * y)      # mnożenie element po elemencie\n",
        "print(x / y)      # dzielenie element po elemencie\n",
        "print(x // y)\n",
        "print(x ** y)"
      ]
    },
    {
      "cell_type": "markdown",
      "metadata": {
        "id": "VYpJs1aSAmMA"
      },
      "source": [
        "**Operacja na macierzach różnych wymiarach**\n",
        "_Broadkasting_\n",
        "![image.png](attachment:image.png)"
      ]
    },
    {
      "cell_type": "code",
      "execution_count": null,
      "metadata": {
        "id": "u8txGW_JAmMA"
      },
      "outputs": [],
      "source": [
        "x = np.array([4, 5, 6, 7, 8, 9]).reshape([2,3])\n",
        "y = np.array([1, 2, 3])\n",
        "x + y"
      ]
    },
    {
      "cell_type": "markdown",
      "metadata": {
        "id": "DU--CpAGAmMA"
      },
      "source": [
        "### Transpozycja"
      ]
    },
    {
      "cell_type": "code",
      "execution_count": null,
      "metadata": {
        "id": "18pKxTvWAmMA"
      },
      "outputs": [],
      "source": [
        "# transpozycja\n",
        "a = x.T\n",
        "print('x=\\n', x)\n",
        "print('a=\\n', a)"
      ]
    },
    {
      "cell_type": "markdown",
      "metadata": {
        "id": "yE187o-AAmMK"
      },
      "source": [
        "### Mnożenie macierzy\n",
        "\n",
        "![image.png](attachment:image.png)"
      ]
    },
    {
      "cell_type": "code",
      "execution_count": null,
      "metadata": {
        "id": "7G7AUMxMAmML"
      },
      "outputs": [],
      "source": [
        "a = np.array([[1, 2, 3], [4, 5, 6]])\n",
        "b = np.array([1,2,3]).T\n",
        "np.matmul(a, b)            # matrix multiplication"
      ]
    },
    {
      "cell_type": "code",
      "execution_count": null,
      "metadata": {
        "id": "S3HOLsThAmML"
      },
      "outputs": [],
      "source": [
        "a @ b    # to samo co matmul"
      ]
    },
    {
      "cell_type": "code",
      "execution_count": null,
      "metadata": {
        "id": "Md1hAsdHAmML"
      },
      "outputs": [],
      "source": [
        "np.dot(a,b)     # dot product"
      ]
    },
    {
      "cell_type": "markdown",
      "metadata": {
        "id": "89fcvrSIAmML"
      },
      "source": [
        "### Indeksowanie elementów macierzy\n",
        "\n",
        "![image-2.png](attachment:image-2.png)"
      ]
    },
    {
      "cell_type": "code",
      "execution_count": null,
      "metadata": {
        "id": "QR8TEQHZAmMM"
      },
      "outputs": [],
      "source": [
        "x = np.array([[1 ,2 ,3], [4, 5, 6]])\n",
        "x[1, 0]    # element: 2 wiersz, 1-sza kolumna"
      ]
    },
    {
      "cell_type": "code",
      "execution_count": null,
      "metadata": {
        "id": "cU5IMx_bAmMM"
      },
      "outputs": [],
      "source": [
        "x[0]   # pierwszy wiersz"
      ]
    },
    {
      "cell_type": "markdown",
      "metadata": {
        "id": "eMhSijGSAmMM"
      },
      "source": [
        "**Indeksowanie zakresów za pomocą dwukropka**\n",
        "\n",
        "![image.png](attachment:image.png)"
      ]
    },
    {
      "cell_type": "markdown",
      "metadata": {
        "id": "KjUK7Q1-AmMM"
      },
      "source": [
        "### Przekroje macierzy (slice)"
      ]
    },
    {
      "cell_type": "code",
      "execution_count": null,
      "metadata": {
        "id": "7jEvOwjJAmMM"
      },
      "outputs": [],
      "source": [
        "x = np.array([40, 41, 42, 43, 44, 45, 46])\n",
        "y = x[3:5]     # y jest przekrojem (slice) macierzy x elementów od 3 do 4, macierz y wskazuje wybrane dane z x\n",
        "print('x', x)\n",
        "print('y', y)"
      ]
    },
    {
      "cell_type": "code",
      "execution_count": null,
      "metadata": {
        "id": "tsUvVf25AmMM"
      },
      "outputs": [],
      "source": [
        "y[:] = 1000    # zmiana elementów y, zmieni się też x (obie macierze to widok na te same dane w pamięci)\n",
        "print('x', x)\n",
        "print('y', y)"
      ]
    },
    {
      "cell_type": "code",
      "execution_count": null,
      "metadata": {
        "id": "1HoGO2QTAmMN"
      },
      "outputs": [],
      "source": [
        "z = x[3:5].copy()   # utworzenie kopii macierzy, elementy z leżą w innej przestrzeni pamięci niż x i y\n",
        "print('z', z)"
      ]
    },
    {
      "cell_type": "code",
      "execution_count": null,
      "metadata": {
        "id": "mX7sPJudAmMN"
      },
      "outputs": [],
      "source": [
        "z[:] = 500          # zmiana z nie zmieni x\n",
        "print('z', z)\n",
        "print('x', x)"
      ]
    },
    {
      "cell_type": "code",
      "execution_count": null,
      "metadata": {
        "id": "e52pB1c9AmMN"
      },
      "outputs": [],
      "source": [
        "x = np.arange(12).reshape((3,4))\n",
        "print(x)"
      ]
    },
    {
      "cell_type": "code",
      "execution_count": null,
      "metadata": {
        "id": "ZdKVPl5YAmMN"
      },
      "outputs": [],
      "source": [
        "print(x[2, :])       # trzeci wiersz"
      ]
    },
    {
      "cell_type": "code",
      "execution_count": null,
      "metadata": {
        "id": "5ESNTWYbAmMN"
      },
      "outputs": [],
      "source": [
        "print(x[:, -1])      # ostatnia kolumna"
      ]
    },
    {
      "cell_type": "code",
      "execution_count": null,
      "metadata": {
        "id": "fHFT8Rt8AmMO"
      },
      "outputs": [],
      "source": [
        "print(x[:2, 2:])     # dwa pierwsze wiersze i dwie ostatnie kolumny"
      ]
    },
    {
      "cell_type": "markdown",
      "metadata": {
        "id": "tg8hiL9hAmMO"
      },
      "source": [
        "### Indeksowanie warunkowe"
      ]
    },
    {
      "cell_type": "code",
      "execution_count": null,
      "metadata": {
        "id": "sMzzoUwQAmMO"
      },
      "outputs": [],
      "source": [
        "x = np.arange(12).reshape(3,4)\n",
        "print(x)\n",
        "x > 5      # rezultatem macierz boolowska"
      ]
    },
    {
      "cell_type": "code",
      "execution_count": null,
      "metadata": {
        "id": "J8_B0XpiAmMO"
      },
      "outputs": [],
      "source": [
        "x[ x > 5 ] = 0   # wyzerowanie el. większych od 5\n",
        "print(x)"
      ]
    },
    {
      "cell_type": "code",
      "execution_count": null,
      "metadata": {
        "id": "Gdk4Ayj6AmMP"
      },
      "outputs": [],
      "source": [
        "ind = ( x == 0 )        # zapamietanie indeksów spełniających warunek x == 0\n",
        "print(ind)          # ndarray typu bool\n",
        "print(x[ind])       # elementy x[] spełniające warunek\n",
        "print(x[~ind])      # negacja"
      ]
    },
    {
      "cell_type": "markdown",
      "metadata": {
        "id": "AUvq_RopAmMP"
      },
      "source": [
        "### Przydatne funkcje"
      ]
    },
    {
      "cell_type": "code",
      "execution_count": null,
      "metadata": {
        "id": "yry2H670AmMP"
      },
      "outputs": [],
      "source": [
        "y = np.random.rand(10) - 0.5\n",
        "print(y)\n",
        "\n",
        "print(np.abs(y))          # wartośc bezwzględna elementów\n",
        "print(np.exp(y))          # exponent elementów"
      ]
    },
    {
      "cell_type": "code",
      "execution_count": null,
      "metadata": {
        "id": "oBSNj8KgAmMP"
      },
      "outputs": [],
      "source": [
        "print(np.sort(y))                     # sortowanie"
      ]
    },
    {
      "cell_type": "code",
      "execution_count": null,
      "metadata": {
        "id": "q1eg77AuAmMP"
      },
      "outputs": [],
      "source": [
        "print(\"Min = \",           np.min(y))             # minimalny element\n",
        "print(\"Max = \",           np.max(y))             # maksymalny welement\n",
        "print(\"Average = \",       np.mean(y))            # średnia wartość wszystkich elementów\n",
        "print(\"Std deviation = \", np.std(y))             # odchylenie standardowe\n",
        "print(\"Sum = \",           np.sum(y))             # suma wszystkich elementów"
      ]
    },
    {
      "cell_type": "markdown",
      "metadata": {
        "id": "xmNRMJv9AmMP"
      },
      "source": [
        "### Suma po wymiarach (axis)\n",
        "\n",
        "![image.png](attachment:image.png)\n"
      ]
    },
    {
      "cell_type": "code",
      "execution_count": null,
      "metadata": {
        "id": "6yEqtFPZAmMQ"
      },
      "outputs": [],
      "source": [
        "x = np.array([[1, 2, 3], [4, 5, 6]])\n",
        "\n",
        "print('Suma axis=0: ', np.sum(x, axis=0))\n",
        "print('Suma axis=1: ', np.sum(x, axis=1))\n",
        "print('Liczba el. wikszych od 0.5 w kolumnach: ', np.sum(x > 3, axis=1))"
      ]
    },
    {
      "cell_type": "markdown",
      "metadata": {
        "id": "Nk5ACphnAmMQ"
      },
      "source": [
        "### Ćwicznie\n",
        "\n",
        "Wyzanacz wspólczynniki $a$ i $b$ z zadania z poprzedniego tygodnia z pomocą operacji numpy.\n",
        "\n",
        "Treść zadania: [https://github.com/IS-UMK/wdm_24_lab_01](https://github.com/IS-UMK/wdm_24_lab_01)\n",
        "\n"
      ]
    },
    {
      "cell_type": "code",
      "execution_count": null,
      "metadata": {
        "id": "0anYpFjaAmMQ"
      },
      "outputs": [],
      "source": [
        "x = np.array([ 8, 2, 11, 6, 5, 4, 12, 9, 6, 1 ])\n",
        "y = np.array([ 3, 10, 3, 6, 8, 12, 1, 4, 9, 14 ] )\n",
        "\n",
        "\n"
      ]
    },
    {
      "cell_type": "markdown",
      "metadata": {
        "id": "1FoUerTRAmMQ"
      },
      "source": [
        "### Wczytywanie danych z plików tekstowych (fomrat CSV)\n",
        "\n",
        "Przykładowe dane Irys dostepne w repozytorium w katalogu [dane/iris.data](dane/iris.data)"
      ]
    },
    {
      "cell_type": "code",
      "execution_count": null,
      "metadata": {
        "id": "Glcjy5m8AmMQ"
      },
      "outputs": [],
      "source": [
        "data = np.loadtxt('dane/iris.data', delimiter=',')\n",
        "\n",
        "print(data.shape)\n",
        "print(data[:3])    # trzy pierwsze wiersze"
      ]
    },
    {
      "cell_type": "markdown",
      "metadata": {
        "id": "0rJnqK3GAmMQ"
      },
      "source": [
        "### Optymalizacja czasu wykonywania operacji macierzowych"
      ]
    },
    {
      "cell_type": "code",
      "execution_count": null,
      "metadata": {
        "id": "o4jif4n7AmMR"
      },
      "outputs": [],
      "source": [
        "n = 1000\n",
        "x = np.random.rand(n)\n",
        "y = np.random.rand(n)\n",
        "z = np.zeros(x.shape)    # pre-alokacja macierzy z"
      ]
    },
    {
      "cell_type": "code",
      "execution_count": null,
      "metadata": {
        "id": "b8cTeg_iAmMR"
      },
      "outputs": [],
      "source": [
        "%%timeit\n",
        "# mnożenie za pomoca operatora *\n",
        "z = x * y"
      ]
    },
    {
      "cell_type": "code",
      "execution_count": null,
      "metadata": {
        "id": "HHrIBZUgAmMR"
      },
      "outputs": [],
      "source": [
        "%%timeit\n",
        "# mnożenie za pomoca funkcji multiply()\n",
        "z = np.multiply(x, y)"
      ]
    },
    {
      "cell_type": "code",
      "execution_count": null,
      "metadata": {
        "id": "7EPgCm3XAmMR"
      },
      "outputs": [],
      "source": [
        "%%timeit\n",
        "# mnożenie w pętli\n",
        "for i in range(n):\n",
        "    z[i] = x[i] * y[i]"
      ]
    },
    {
      "cell_type": "markdown",
      "metadata": {
        "id": "8YYOZ66SAmMR"
      },
      "source": [
        "## MatPlotLib - wykresy\n",
        "\n",
        "Tutorial: <https://matplotlib.org/tutorials/index.html>\n",
        "\n",
        "* ``plot(x,y)`` wykres liniowy (lub punktowy)\n",
        "* ``bar(x, labels)`` wykres słupkowy\n",
        "* ``pie(x, labels)`` wykres kołowy\n",
        "* ``hist(x)`` histogram"
      ]
    },
    {
      "cell_type": "code",
      "execution_count": null,
      "metadata": {
        "id": "a_tRWPBXAmMR"
      },
      "outputs": [],
      "source": [
        "import matplotlib.pyplot as plt"
      ]
    },
    {
      "cell_type": "markdown",
      "metadata": {
        "id": "OuhuZCrXAmMS"
      },
      "source": [
        "### Wykres liniowy"
      ]
    },
    {
      "cell_type": "markdown",
      "metadata": {
        "id": "Y7e_COjkAmMS"
      },
      "source": [
        "Narysujmy przebieg funkcji sigmoidalnej $f(x) = \\frac{1}{1+e^{-\\alpha x}}$ na odcinku [-5, 5]\n",
        "\n"
      ]
    },
    {
      "cell_type": "code",
      "execution_count": null,
      "metadata": {
        "id": "4NHcInvFAmMS"
      },
      "outputs": [],
      "source": [
        "x = np.linspace(-5, 5, 100)\n",
        "y = 1.0 / (1.0 + np.exp(-x))\n",
        "\n",
        "plt.plot(x, y);"
      ]
    },
    {
      "cell_type": "markdown",
      "metadata": {
        "id": "rAq4j9NBAmMS"
      },
      "source": [
        "Funkcji sigmoidalna ze współczynnikiem nachylenia $\\alpha=0.5, 1, 2, 100$"
      ]
    },
    {
      "cell_type": "code",
      "execution_count": null,
      "metadata": {
        "id": "TC0gzvn_AmMS"
      },
      "outputs": [],
      "source": [
        "for a in [0.5, 1.0, 2.0, 100]:\n",
        "    y = 1.0 / (1.0 + np.exp(-x * a))\n",
        "    plt.plot(x, y, label='a=' + str(a))\n",
        "\n",
        "plt.title('Funkcja sigmoidalna')\n",
        "plt.xlabel('x')\n",
        "plt.ylabel('f(x)')\n",
        "plt.legend();"
      ]
    },
    {
      "cell_type": "markdown",
      "metadata": {
        "id": "dnfjeqiaAmMS"
      },
      "source": [
        "### Wykres punktowy (wykres rozrzutu)"
      ]
    },
    {
      "cell_type": "code",
      "execution_count": null,
      "metadata": {
        "id": "yXOgigYGAmMT"
      },
      "outputs": [],
      "source": [
        "x1 = np.random.randn(100, 2)\n",
        "x2 = np.random.randn(100, 2) * 3 + 2\n",
        "\n",
        "plt.plot(x1[:,0], x1[:,1], 'ro')   # red circle (o)\n",
        "plt.plot(x2[:,0], x2[:,1], 'bx')   # blue cross (x)"
      ]
    },
    {
      "cell_type": "markdown",
      "metadata": {
        "id": "R20HIosqAmMT"
      },
      "source": [
        "### Ćwiczenie\n",
        "\n",
        "Narysuj wykres przedstawiający punkty z zadania z poprzednich zajęć wraz z linią wyznaczoną metodą najmniejszych kwadratów\n",
        "\n",
        "$f(x) = -1.1x + 14$"
      ]
    },
    {
      "cell_type": "code",
      "execution_count": null,
      "metadata": {
        "id": "ZPJaCGW6AmMT"
      },
      "outputs": [],
      "source": [
        "x = np.array([ 8, 2, 11, 6, 5, 4, 12, 9, 6, 1 ])\n",
        "y = np.array([ 3, 10, 3, 6, 8, 12, 1, 4, 9, 14 ] )\n",
        "\n",
        "\n",
        "\n",
        "\n"
      ]
    },
    {
      "cell_type": "markdown",
      "metadata": {
        "id": "gsBAOLhrAmMT"
      },
      "source": [
        "### Wizualizacja macierzy: matshow"
      ]
    },
    {
      "cell_type": "code",
      "execution_count": null,
      "metadata": {
        "id": "zjhRu3M_AmMT"
      },
      "outputs": [],
      "source": [
        "x = np.random.randn(4, 6)\n",
        "plt.matshow(x)\n",
        "plt.colorbar()"
      ]
    },
    {
      "cell_type": "markdown",
      "metadata": {
        "id": "XQLVIsX4AmMT"
      },
      "source": [
        "### Wykres słupkowy i kołowy"
      ]
    },
    {
      "cell_type": "code",
      "execution_count": null,
      "metadata": {
        "id": "Xp9RhFVfAmMU"
      },
      "outputs": [],
      "source": [
        "x = ['a', 'b', 'c']\n",
        "y = [3, 5, 12]\n",
        "\n",
        "plt.bar(x, y)"
      ]
    },
    {
      "cell_type": "code",
      "execution_count": null,
      "metadata": {
        "id": "DhNACGprAmMU"
      },
      "outputs": [],
      "source": [
        "plt.pie(y, labels=x);"
      ]
    },
    {
      "cell_type": "markdown",
      "metadata": {
        "id": "ck7p_2fqAmMU"
      },
      "source": [
        "### Histogram"
      ]
    },
    {
      "cell_type": "code",
      "execution_count": null,
      "metadata": {
        "id": "EmT1C7sKAmMU"
      },
      "outputs": [],
      "source": [
        "x = np.random.randn(10000, 1) * 3 + 2\n",
        "plt.hist(x);"
      ]
    },
    {
      "cell_type": "code",
      "execution_count": null,
      "metadata": {
        "id": "yq6b5kbNAmMU"
      },
      "outputs": [],
      "source": [
        "import matplotlib.pyplot as plt\n",
        "data = np.loadtxt('dane/iris.data', delimiter=',')\n",
        "\n",
        "plt.hist(data[:, 2], bins=20);"
      ]
    },
    {
      "cell_type": "code",
      "execution_count": null,
      "metadata": {
        "id": "xmjxrQgQAmMU"
      },
      "outputs": [],
      "source": [
        "plt.hist(data[data[:,4] == 0, 2], label='Setosa')\n",
        "plt.hist(data[data[:,4] != 0, 2], label='Not Setosa')\n",
        "plt.legend()\n"
      ]
    },
    {
      "cell_type": "code",
      "execution_count": null,
      "metadata": {
        "id": "Et3FziWVAmMV"
      },
      "outputs": [],
      "source": [
        "plt.figure(figsize=(10,10))\n",
        "for i in (0, 1, 2):\n",
        "    plt.plot(data[data[:,4]==i, 2], data[data[:,4]==i, 3], 'o')\n",
        "plt.xlabel(\"Długośc płatka\")\n",
        "plt.ylabel('Szerokość płatka')\n",
        "plt.show()"
      ]
    },
    {
      "cell_type": "markdown",
      "metadata": {
        "id": "YtMpsK9nAmMV"
      },
      "source": [
        "## Zadanie: Włoskie wina\n",
        "\n",
        "Wykonaj analizę danych Wine zgodnie z poniższymi punktami.  \n",
        "Zbiór danych znajduje się w katalogu repizytorium [dane/wine.data](dane/wine.data)\n",
        "\n",
        "Plik ``wine.data`` zawiera pomiary własności chemicznych 3 odmian Włoskich win.  \n",
        "Format danych:  \n",
        "```\n",
        "  1,14.23,1.71,2.43,15.6,127,2.8,3.06,.28,2.29,5.64,1.04,3.92,1065\n",
        "  2,13.2,1.78,2.14,11.2,100,2.65,2.76,.26,1.28,4.38,1.05,3.4,1050\n",
        "  3,13.16,2.36,2.67,18.6,101,2.8,3.24,.3,2.81,5.68,1.03,3.17,1185\n",
        "   ...\n",
        "```\n",
        "Każda linia zawiera 14 liczb oddzielonych przecinkami określających wartości pomiaru dla pojedynczego wina.  \n",
        "Pierwsza zmienna to odmiana wina (wartość 1, 2 lub 3) pozostałe to zmienne ciągłe (wyniki pomiarów):\n",
        "```\n",
        "  1 Odmiana (1,2,3),  \n",
        "  2 Alcohol,  \n",
        "  3 Malic acid,  \n",
        "  4 Ash,  \n",
        "  5 Alcalinity of ash,  \n",
        "  6 Magnesium,  \n",
        "  7 Total phenols,\n",
        "  8 Flavanoids,  \n",
        "  9 Nonflavanoid phenols,  \n",
        "  10 Proanthocyanins,  \n",
        "  11 Color intensity,  \n",
        "  12 Hue,  \n",
        "  13 OD280/OD315 of diluted wines,\n",
        "  14 Proline\n",
        "```\n",
        "---\n",
        "\n",
        "1. Korzystając z pakietu ``numpy`` wczytaj dane ``wine.data``.  \n",
        "Utwórz macierz ``X`` o wymiarze ``N x 13`` zawierającą w kolumnach wszystkie 13 zmiennych opisujących wina (zmienne od 2 do ostatniej).  \n",
        "Utwórz wektor ``y`` o długości ``N`` zaierający etykiety klas (pierwsza kolumna danych: ``Odmiana``).  "
      ]
    },
    {
      "cell_type": "code",
      "execution_count": null,
      "metadata": {
        "id": "TojmgqPfAmMV"
      },
      "outputs": [],
      "source": [
        "data = np.loadtxt('dane/wine.data', delimiter=',')\n",
        "\n",
        "\n",
        "\n",
        "\n"
      ]
    },
    {
      "cell_type": "markdown",
      "metadata": {
        "id": "--IFdouMAmMV"
      },
      "source": [
        "2. Wyznacz ile przypadków wystepuje w każdej z 3 grup win (wartości 1, 2, 3 zmiennej ``Odmiana``) i jaki procent całości stanowią te grupy. Utwórz wykres przedstawiąjący liczebność w grupach (np. słupkowy lub kołowy)."
      ]
    },
    {
      "cell_type": "code",
      "execution_count": null,
      "metadata": {
        "scrolled": false,
        "id": "XtaN5ijCAmMV"
      },
      "outputs": [],
      "source": [
        "\n",
        "\n",
        "\n"
      ]
    },
    {
      "cell_type": "markdown",
      "metadata": {
        "id": "4kwqKQnyAmMV"
      },
      "source": [
        "3. Wykonaj standaryzację danych zawartych w macierzy ``X``.  \n",
        "Standaryzacja polega na zmianie zakresu wartości zmiennej tak aby jej wartość średnia wynosiła 0 a odchylenie standardowe wynosiło 1, zgodnie z ponizszą transformacją:  \n",
        "$$ x_{std} = \\frac{x - \\bar{x}}{\\sigma_x} $$\n",
        "gdzie $\\bar{x}$ to wartość średnia zamiennej $x$ a $\\sigma_x$ to odchylenie standardowe zmiennej $x$.  \n",
        "\n",
        "Sprawdź poprawność wykonanej transformacji wypisując wartości średnie i odchypenia standardowe uzyskanych zmiennych i wyświetlając wykres skrzynkowy (``boxplot``) prezentujący rozklad wszystkich zmiennych."
      ]
    },
    {
      "cell_type": "code",
      "execution_count": null,
      "metadata": {
        "id": "zlhr_Sy3AmMW"
      },
      "outputs": [],
      "source": [
        "\n",
        "\n",
        "\n",
        "\n"
      ]
    },
    {
      "cell_type": "markdown",
      "metadata": {
        "id": "gbIihu7_AmMW"
      },
      "source": [
        "4. Wyznacz macierz wspólczynników korelacji liniowej dla zmiennych ``X``.  \n",
        "Jeżeli $\\mathbf{X_{std}}$ zawiera wystandaryzowane dane to macierz ta może być wyznaczona ze wzoru  \n",
        "$$ \\mathbf{R} = \\mathbf{X}_{std}^T\\mathbf{X}_{std} $$  \n",
        "Możesz w tym celu też posłuzyć się funkcją [numpy.corrcoeff()](https://numpy.org/doc/stable/reference/generated/numpy.corrcoef.html), w tym wypadku dane nie muszą być wystandaryzowane.  \n",
        "Użyj funkcji [matshow()](https://matplotlib.org/stable/api/_as_gen/matplotlib.pyplot.matshow.html) do zwizualizowania zawartości macirzy korelacji."
      ]
    },
    {
      "cell_type": "code",
      "execution_count": null,
      "metadata": {
        "id": "YcMxVi_SAmMW"
      },
      "outputs": [],
      "source": [
        "\n",
        "\n",
        "\n",
        "\n"
      ]
    },
    {
      "cell_type": "markdown",
      "metadata": {
        "id": "shu6K_KIAmMW"
      },
      "source": [
        "5. Na podstaiwie uzyskanej macierzy korelacji wybierz parę zmiennych o najwyższej korelacji liniowej.  \n",
        "Narysuj wykres rozrzutu prezentujący rozkład danych w tych dwóch zmiennych.    \n",
        "Nanieś na wykres linię prostą dopasowaną do punktów pomiarowych za pomocą metody najmniejszych kwadratów.    \n",
        "Dla zmiennych wystandaryzowanych metoda najmniejszych kwadratów znacznie się upraszcza, gdzyż  \n",
        "\n",
        "$$a = \\frac{\\sum_{i=1}^n\\left(x_i-\\bar{x}\\right)\\left(y_i-\\bar{y}\\right)}{\\sum_{i=1}^n\\left(x_i-\\bar{x}\\right)^2} = \\operatorname{corr}(x,y) \\qquad b = \\bar{y} - a\\bar{x} = 0$$"
      ]
    },
    {
      "cell_type": "code",
      "execution_count": null,
      "metadata": {
        "id": "ecjxhE9lAmMW"
      },
      "outputs": [],
      "source": [
        "\n",
        "\n",
        "\n",
        "\n"
      ]
    }
  ],
  "metadata": {
    "kernelspec": {
      "display_name": "Python 3 (ipykernel)",
      "language": "python",
      "name": "python3"
    },
    "language_info": {
      "codemirror_mode": {
        "name": "ipython",
        "version": 3
      },
      "file_extension": ".py",
      "mimetype": "text/x-python",
      "name": "python",
      "nbconvert_exporter": "python",
      "pygments_lexer": "ipython3",
      "version": "3.9.7"
    },
    "toc": {
      "base_numbering": 1,
      "nav_menu": {},
      "number_sections": true,
      "sideBar": true,
      "skip_h1_title": false,
      "title_cell": "Table of Contents",
      "title_sidebar": "Contents",
      "toc_cell": false,
      "toc_position": {},
      "toc_section_display": true,
      "toc_window_display": true
    },
    "varInspector": {
      "cols": {
        "lenName": 16,
        "lenType": 16,
        "lenVar": 40
      },
      "kernels_config": {
        "python": {
          "delete_cmd_postfix": "",
          "delete_cmd_prefix": "del ",
          "library": "var_list.py",
          "varRefreshCmd": "print(var_dic_list())"
        },
        "r": {
          "delete_cmd_postfix": ") ",
          "delete_cmd_prefix": "rm(",
          "library": "var_list.r",
          "varRefreshCmd": "cat(var_dic_list()) "
        }
      },
      "types_to_exclude": [
        "module",
        "function",
        "builtin_function_or_method",
        "instance",
        "_Feature"
      ],
      "window_display": false
    },
    "colab": {
      "provenance": []
    }
  },
  "nbformat": 4,
  "nbformat_minor": 0
}